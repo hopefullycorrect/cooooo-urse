{
  "cells": [
    {
      "cell_type": "markdown",
      "metadata": {
        "id": "9c5e64dc-2bc7-4640-9b71-877eda7b6100"
      },
      "source": [
        "<center>\n",
        "    <img src=\"https://cf-courses-data.s3.us.cloud-object-storage.appdomain.cloud/IBMDeveloperSkillsNetwork-DS0105EN-SkillsNetwork/labs/Module2/images/SN_web_lightmode.png\" width=\"300\" alt=\"cognitiveclass.ai logo\">\n",
        "</center>\n"
      ]
    },
    {
      "cell_type": "markdown",
      "metadata": {
        "id": "bca0d27a-24c6-4c43-b116-c73c8d9ab219"
      },
      "source": [
        "# Hands-on Lab: Create your Jupyter Notebook\n"
      ]
    },
    {
      "cell_type": "markdown",
      "metadata": {
        "id": "8b126e2f-912e-42e0-8d57-43862ac465fc"
      },
      "source": [
        "# Tools for Data Science - Final Project"
      ]
    },
    {
      "cell_type": "markdown",
      "source": [
        "This notebook is created as the final assignment for the Tools for Data Science course. It includes demonstrations of markdown formatting, code cells, and basic data science content."
      ],
      "metadata": {
        "id": "dXBIeVNY5SbD"
      }
    },
    {
      "cell_type": "markdown",
      "source": [
        "## Popular Data Science Languages:\n",
        "- Python\n",
        "- R\n",
        "- SQL\n",
        "- Java"
      ],
      "metadata": {
        "id": "oSANIyg65Vwl"
      }
    },
    {
      "cell_type": "markdown",
      "source": [
        "## Commonly Used Data Science Libraries:\n",
        "- NumPy\n",
        "- Pandas\n",
        "- Matplotlib\n",
        "- Seaborn\n",
        "- Scikit-learn\n",
        "- TensorFlow"
      ],
      "metadata": {
        "id": "RkR7xkD55V69"
      }
    },
    {
      "cell_type": "markdown",
      "source": [
        "## Data Science Tools\n",
        "\n",
        "| Tool Name    | Category           | Description                       |\n",
        "|--------------|--------------------|-----------------------------------|\n",
        "| JupyterLab   | IDE                | Web-based interactive environment |\n",
        "| RStudio      | IDE                | IDE for R programming             |\n",
        "| Apache Spark | Big Data Framework | Distributed data processing       |"
      ],
      "metadata": {
        "id": "5qA43KTL5WCU"
      }
    },
    {
      "cell_type": "markdown",
      "source": [
        "## Below is an example of evaluating arithmetic expressions using code.\n",
        "- +\n",
        "- -\n",
        "- *\n",
        "- /\n",
        "- ^"
      ],
      "metadata": {
        "id": "99GTYtg550UZ"
      }
    },
    {
      "cell_type": "code",
      "source": [
        "# simple math, multiply\n",
        "6 * 4"
      ],
      "metadata": {
        "id": "_gDBIZu556Wr"
      },
      "execution_count": null,
      "outputs": []
    },
    {
      "cell_type": "code",
      "source": [
        "#simple math, add\n",
        "5 + 5"
      ],
      "metadata": {
        "id": "1wd6Rh7057_1"
      },
      "execution_count": null,
      "outputs": []
    },
    {
      "cell_type": "code",
      "source": [
        "# minute to hour\n",
        "minutes = 180\n",
        "hours = minutes / 60\n",
        "hours"
      ],
      "metadata": {
        "id": "gqM2fNFp58Go"
      },
      "execution_count": null,
      "outputs": []
    },
    {
      "cell_type": "markdown",
      "source": [
        "## Objectives:\n",
        "- Understand the basics of Data Science\n",
        "- Learn about common tools used in the field\n",
        "- Practice using Jupyter Notebooks\n",
        "- Use markdown and code cells effectively\n",
        "- Share notebooks using GitHub"
      ],
      "metadata": {
        "id": "N7b3SQF050jN"
      }
    },
    {
      "cell_type": "markdown",
      "source": [
        "**Author:** Mario Hartanto"
      ],
      "metadata": {
        "id": "VmXGkNSe50r1"
      }
    },
    {
      "cell_type": "markdown",
      "metadata": {
        "id": "b5f467ed-efe7-45ac-a08b-b2d48c26ba81"
      },
      "source": [
        "Copyright ©2024 IBM Corporation. All rights reserved.\n"
      ]
    }
  ],
  "metadata": {
    "kernelspec": {
      "display_name": "Python",
      "language": "python",
      "name": "conda-env-python-py"
    },
    "language_info": {
      "name": "python",
      "version": "3.7.12",
      "mimetype": "text/x-python",
      "codemirror_mode": {
        "name": "ipython",
        "version": 3
      },
      "pygments_lexer": "ipython3",
      "nbconvert_exporter": "python",
      "file_extension": ".py"
    },
    "prev_pub_hash": "9e1985db9844176462bd1d5863048c9f3d17404bbc6a648be9084b0c42b29347",
    "colab": {
      "provenance": []
    }
  },
  "nbformat": 4,
  "nbformat_minor": 0
}